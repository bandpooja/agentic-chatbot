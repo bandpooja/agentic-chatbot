{
 "cells": [
  {
   "cell_type": "code",
   "execution_count": 1,
   "id": "e6b667b4-82b4-45fb-a5fd-699f48ea623c",
   "metadata": {},
   "outputs": [],
   "source": [
    "from azure.storage.blob import ContainerClient\n",
    "import json\n",
    "import os\n",
    "from PIL import Image\n",
    "import requests\n",
    "import time\n",
    "import uuid\n",
    "from langchain_huggingface import HuggingFaceEndpoint\n",
    "from langchain_openai import AzureChatOpenAI, ChatOpenAI\n",
    "from langchain_aws.chat_models.bedrock import ChatBedrock\n",
    "from langchain_core.prompts import ChatPromptTemplate,MessagesPlaceholder\n",
    "from langchain.memory import ChatMessageHistory\n",
    "from langchain_core.runnables.history import RunnableWithMessageHistory\n",
    "from langchain.agents import AgentExecutor, create_tool_calling_agent\n",
    "from langchain.tools import tool\n",
    "from langchain_experimental.tools.python.tool import PythonREPLTool\n"
   ]
  },
  {
   "cell_type": "code",
   "execution_count": 37,
   "id": "1fc9511a",
   "metadata": {},
   "outputs": [],
   "source": [
    "# Set Hugging Face API token. This has to be a token type: *Read*\n",
    "huggingfacehub_api_token = os.environ[\"HUGGINGFACEHUB_API_TOKEN\"]\n",
    "\n",
    "# Variables for Azure blob-storage connection\n",
    "CONNECTION_STRING = os.environ[\"CONNECTION_STRING\"]\n",
    "CONTAINER_NAME= os.environ[\"CONTAINER_NAME\"]\n",
    "# Leonardo image generation token\n",
    "LEO_IMG_TOKEN= os.environ[\"LEO_IMG_TOKEN\"]\n",
    "LEO_MODEL_ID = os.environ[\"LEO_MODEL_ID\"]\n",
    "LEO_STYLE_UUID = os.environ[\"LEO_STYLE_UUID\"]\n",
    "# OpenAI Key\n",
    "OPENAI_KEY = os.environ[\"OPENAI_KEY\"]\n",
    "\n",
    "# AWS credentials to access antropic model in AWS Bedrock\n",
    "aws_access_key_id = os.environ[\"AWS_ACCESS_KEY_ID\"]\n",
    "aws_access_key_secret = os.environ[\"AWS_ACCESS_KEY_SECRET\"]\n",
    "aws_region = os.environ[\"AWS_REGION\"]\n",
    "aws_model_id = os.environ[\"AWS_MODEL_ID\"]\n",
    "\n",
    "# Azure OpenAI model identifiers\n",
    "azure_deployment = os.environ[\"AZURE_DEPLOYMENT\"]  # or your deployment\n",
    "azure_api_version = os.environ[\"AZURE_MODEL_VERSION\"] # or your api version\n",
    "azure_openai_key = os.environ[\"AZURE_OPENAI_KEY\"]\n",
    "azure_endpoint = os.environ[\"AZURE_ENDPOINT\"]"
   ]
  },
  {
   "cell_type": "code",
   "execution_count": 5,
   "id": "762053b3-9e21-4d5d-9a95-9fecb4a0ab0f",
   "metadata": {},
   "outputs": [
    {
     "name": "stderr",
     "output_type": "stream",
     "text": [
      "/Users/vermaa/Desktop/agent-chatbot/env/lib/python3.12/site-packages/tqdm/auto.py:21: TqdmWarning: IProgress not found. Please update jupyter and ipywidgets. See https://ipywidgets.readthedocs.io/en/stable/user_install.html\n",
      "  from .autonotebook import tqdm as notebook_tqdm\n"
     ]
    }
   ],
   "source": [
    "# Define the LLM\n",
    "hf_llm = HuggingFaceEndpoint(\n",
    "    repo_id=\"meta-llama/Llama-3.2-1B\", # need to use HF token which has read access to Llama-3.2 model\n",
    "    task=\"text-generation\",\n",
    "    max_new_tokens=512,\n",
    "    do_sample=False,\n",
    "    repetition_penalty=1.03,\n",
    "    huggingfacehub_api_token=huggingfacehub_api_token\n",
    ")"
   ]
  },
  {
   "cell_type": "code",
   "execution_count": 6,
   "id": "ed233b92-c6ed-49c8-82c0-1e8226b2b628",
   "metadata": {},
   "outputs": [],
   "source": [
    "CONTAINER_CLIENT = ContainerClient.from_connection_string(conn_str=CONNECTION_STRING, container_name=CONTAINER_NAME)\n",
    "def ingest(file_path: str, blob_path: str):\n",
    "    try:\n",
    "        _BLOB_CLIENT = CONTAINER_CLIENT.get_blob_client(blob=blob_path)\n",
    "        with open(file_path, \"rb\") as data:\n",
    "            _BLOB_CLIENT.upload_blob(data=data, overwrite=True)\n",
    "    except Exception as err:\n",
    "        print(\"/\"*10  + f\" {err} or, \\n {blob_path} already exists azure-blob-storage \" + \"\\\\\"*10)"
   ]
  },
  {
   "cell_type": "code",
   "execution_count": 7,
   "id": "4e380d1f-ccb6-4e52-8b20-6974fa1182af",
   "metadata": {},
   "outputs": [],
   "source": [
    "def generate_leo_img(prompt: str):\n",
    "    ID= str(uuid.uuid4().hex)\n",
    "    #image generation\n",
    "    url = \"https://cloud.leonardo.ai/api/rest/v1/generations\"\n",
    "    headers = {\n",
    "        \"accept\": \"application/json\",\n",
    "        \"authorization\": f\"Bearer {LEO_IMG_TOKEN}\",\n",
    "        \"content-type\": \"application/json\"\n",
    "    }\n",
    "    # Define the data payload\n",
    "    payload = {\n",
    "        \"height\": 512,\n",
    "        \"prompt\": prompt,\n",
    "        \"modelId\": LEO_MODEL_ID,  # Leonardo Phoenix Model\n",
    "        \"width\": 512,\n",
    "        \"alchemy\": True,\n",
    "        \"contrast\": 4,\n",
    "        \"styleUUID\": LEO_STYLE_UUID,\n",
    "        \"public\": False,\n",
    "        \"num_images\": 1,\n",
    "        \"enhancePrompt\": False\n",
    "    }\n",
    "    response = requests.post(url, headers=headers, json=payload)\n",
    "    time.sleep(2) \n",
    "\n",
    "    generation_id = response.json()[\"sdGenerationJob\"][\"generationId\"]\n",
    "    credit_cost = response.json()[\"sdGenerationJob\"][\"apiCreditCost\"] \n",
    "  \n",
    "    # get the generated image\n",
    "    url = f\"https://cloud.leonardo.ai/api/rest/v1/generations/{generation_id}\"\n",
    "    flag = True\n",
    "    while flag:\n",
    "        try:\n",
    "            response = requests.get(url, headers=headers)\n",
    "            time.sleep(5)\n",
    "            image_url = response.json()[\"generations_by_pk\"][\"generated_images\"][0][\"url\"]\n",
    "            flag = False\n",
    "        except IndexError as e:\n",
    "            print(\"wait\")\n",
    "        except Exception as e:\n",
    "            print(\"wait\")\n",
    "            flag = False        \n",
    "\n",
    "    im = Image.open(requests.get(image_url, stream=True).raw)\n",
    "    im.save(f\"{ID}_Leo.png\")\n",
    "    blob_path = f\"OpenAI-Assistant/{ID}_Leo.png\"\n",
    "    ingest(file_path=f\"{ID}_Leo.png\", blob_path=blob_path)\n",
    "    if os.path.exists(f\"{ID}_Leo.png\"):\n",
    "        os.remove(f\"{ID}_Leo.png\")\n",
    "    print(generation_id)\n",
    "    return blob_path"
   ]
  },
  {
   "cell_type": "code",
   "execution_count": 39,
   "id": "02e9d52b-715b-4189-aa02-80ac4dc8c506",
   "metadata": {},
   "outputs": [],
   "source": [
    "openai_llm = ChatOpenAI(\n",
    "    model=\"gpt-4o\",\n",
    "    temperature=0,\n",
    "    max_tokens=None,\n",
    "    timeout=None,\n",
    "    max_retries=2,\n",
    "    api_key=OPENAI_KEY,  # if you prefer to pass api key in directly instaed of using env vars\n",
    "    # base_url=\"...\",\n",
    "    # organization=\"...\",\n",
    "    # other params...\n",
    ")"
   ]
  },
  {
   "cell_type": "code",
   "execution_count": null,
   "id": "08d4f985-0c29-4885-ad64-5d0bad4d4285",
   "metadata": {},
   "outputs": [],
   "source": [
    "claude_llm = ChatBedrock(\n",
    "    model_id=aws_model_id,\n",
    "    temperature=0,\n",
    "    aws_access_key_id=aws_access_key_id,\n",
    "    aws_secret_access_key=aws_access_key_secret,\n",
    "    region_name=aws_region\n",
    ")"
   ]
  },
  {
   "cell_type": "code",
   "execution_count": 10,
   "id": "a2738929-4684-4365-be06-2b00cde35546",
   "metadata": {},
   "outputs": [],
   "source": [
    "azure_llm = AzureChatOpenAI(\n",
    "    azure_deployment=azure_deployment,  # or your deployment\n",
    "    api_version=azure_api_version,  # or your api version\n",
    "    temperature=0,\n",
    "    max_tokens=None,\n",
    "    timeout=None,\n",
    "    api_key=azure_openai_key,\n",
    "    max_retries=2,\n",
    "    azure_endpoint=azure_endpoint\n",
    "    # other params...\n",
    ")"
   ]
  },
  {
   "cell_type": "code",
   "execution_count": 11,
   "id": "74687685-76e6-4192-9a07-2a1700c24669",
   "metadata": {},
   "outputs": [
    {
     "data": {
      "text/plain": [
       "AIMessage(content=\"Oh, really? I couldn't tell at all! It's not like every programmer ever has said that. How original!\", additional_kwargs={'refusal': None}, response_metadata={'token_usage': {'completion_tokens': 23, 'prompt_tokens': 29, 'total_tokens': 52, 'completion_tokens_details': {'accepted_prediction_tokens': 0, 'audio_tokens': 0, 'reasoning_tokens': 0, 'rejected_prediction_tokens': 0}, 'prompt_tokens_details': {'audio_tokens': 0, 'cached_tokens': 0}}, 'model_name': 'gpt-4o-2024-05-13', 'system_fingerprint': 'fp_65792305e4', 'prompt_filter_results': [{'prompt_index': 0, 'content_filter_results': {'hate': {'filtered': False, 'severity': 'safe'}, 'self_harm': {'filtered': False, 'severity': 'safe'}, 'sexual': {'filtered': False, 'severity': 'safe'}, 'violence': {'filtered': False, 'severity': 'safe'}}}], 'finish_reason': 'stop', 'logprobs': None, 'content_filter_results': {'hate': {'filtered': False, 'severity': 'safe'}, 'self_harm': {'filtered': False, 'severity': 'safe'}, 'sexual': {'filtered': False, 'severity': 'safe'}, 'violence': {'filtered': False, 'severity': 'safe'}}}, id='run-c85e2f31-310a-428a-a12c-496215619ab4-0', usage_metadata={'input_tokens': 29, 'output_tokens': 23, 'total_tokens': 52, 'input_token_details': {'audio': 0, 'cache_read': 0}, 'output_token_details': {'audio': 0, 'reasoning': 0}})"
      ]
     },
     "execution_count": 11,
     "metadata": {},
     "output_type": "execute_result"
    }
   ],
   "source": [
    "messages = [\n",
    "    (\n",
    "        \"system\",\n",
    "        \"You are a helpful assistant. Answer the questions in sarcastic way.\",\n",
    "    ),\n",
    "    (\"human\", \"I love programming.\"),\n",
    "]\n",
    "ai_msg = azure_llm.invoke(messages)\n",
    "ai_msg"
   ]
  },
  {
   "cell_type": "code",
   "execution_count": 30,
   "id": "a97b6969-bd77-4cf0-83c3-e3bb4d7cca6b",
   "metadata": {},
   "outputs": [],
   "source": [
    "\n",
    "\n",
    "\n",
    "python_tool=PythonREPLTool(description= 'A Python shell. Use this to execute python code. Also, use this to perform some analysis on data like create graphs.')\n",
    "\n",
    "@tool\n",
    "def multiply_numbers(num1: int, num2: int) -> int:\n",
    "    \"\"\"\n",
    "    multiplication of numbers\n",
    "    \"\"\"\n",
    "    return num1 * num2\n",
    "\n",
    "\n",
    "@tool\n",
    "def generate_image(prompt: str) -> str:\n",
    "    \"\"\"\n",
    "    generate an image of given prompt\n",
    "    \"\"\"\n",
    "    return generate_leo_img(prompt)\n",
    "\n",
    "chat_history_for_chain = ChatMessageHistory()\n",
    "\n",
    "\n",
    "\n",
    "def call_chain(model, question):\n",
    "    messages = ChatPromptTemplate.from_messages([\n",
    "        (\"system\", \"You are a helpful assistant. Answer the questions and alway give image path when user ask to generate an image. For python_tool always write a python code for it to produce output ans store any generated documents into result folder if not present create one.\"),\n",
    "        (\"placeholder\", \"{chat_history}\"),\n",
    "        (\"human\", \"{input}\"),\n",
    "        (\"placeholder\", \"{agent_scratchpad}\"),\n",
    "        ])\n",
    "\n",
    "    chain = messages | model\n",
    "\n",
    "    tools = [multiply_numbers, generate_image, python_tool]\n",
    "\n",
    "    agent = create_tool_calling_agent(model, tools, messages)\n",
    "\n",
    "    agent_executor = AgentExecutor(agent=agent, tools=tools, verbose=True, handle_parsing_errors=True)\n",
    "    \n",
    "    # agent_with_chat_history = RunnableWithMessageHistory(\n",
    "    #     agent_executor,\n",
    "    #     lambda session_id: chat_history_for_chain,\n",
    "    #     input_messages_key=\"input\",\n",
    "    #     history_messages_key=\"chat_history\",\n",
    "    # )\n",
    "\n",
    "    # ai_msg= agent_with_chat_history.invoke(\n",
    "    # {\"input\": question},\n",
    "    # {\"configurable\": {\"session_id\": \"session1\"}},\n",
    "    # )\n",
    "\n",
    "    ai_msg= agent_executor.invoke({\"input\": question, \"chat_history\":chat_history_for_chain.messages})\n",
    "    chat_history_for_chain.add_user_message(question)\n",
    "    if model== claude_llm:\n",
    "        chat_history_for_chain.add_ai_message(ai_msg['output'])\n",
    "        # chat_history_for_chain.add_ai_message(ai_msg['output'][0]['text'])\n",
    "        return ai_msg['output'] # [0]['text']\n",
    "    else:\n",
    "        chat_history_for_chain.add_ai_message(ai_msg['output'])\n",
    "        return ai_msg['output']\n",
    "    \n"
   ]
  },
  {
   "cell_type": "code",
   "execution_count": 32,
   "id": "dda45471-6b36-432f-ae21-931697e0da17",
   "metadata": {},
   "outputs": [
    {
     "name": "stdout",
     "output_type": "stream",
     "text": [
      "\n",
      "\n",
      "\u001b[1m> Entering new AgentExecutor chain...\u001b[0m\n"
     ]
    },
    {
     "name": "stderr",
     "output_type": "stream",
     "text": [
      "Python REPL can execute arbitrary code. Use with caution.\n"
     ]
    },
    {
     "name": "stdout",
     "output_type": "stream",
     "text": [
      "\u001b[32;1m\u001b[1;3m\n",
      "Invoking: `Python_REPL` with `{'query': \"import matplotlib.pyplot as plt\\nimport pandas as pd\\n\\n# Sample dataset\\ndata = {\\n    'Month': ['January', 'February', 'March', 'April', 'May'],\\n    'Sales (in units)': [150, 200, 175, 225, 190]\\n}\\ndf = pd.DataFrame(data)\\n\\n# Create bar chart\\nplt.figure(figsize=(10, 6))\\nplt.bar(df['Month'], df['Sales (in units)'], color='skyblue')\\nplt.xlabel('Month')\\nplt.ylabel('Sales (in units)')\\nplt.title('Sales Trends Over Five Months')\\nplt.savefig('result/sales_trends_bar_chart.png')\\nplt.show()\"}`\n",
      "responded: Let's create a bar chart to visualize the sales trends over these five months.\n",
      "\n",
      "I'll generate the graph using Python.\n",
      "\n",
      "\u001b[0m\u001b[38;5;200m\u001b[1;3mFileNotFoundError(2, 'No such file or directory')\u001b[0m"
     ]
    },
    {
     "data": {
      "image/png": "[encoded data removed]",
      "text/plain": [
       "<Figure size 1000x600 with 1 Axes>"
      ]
     },
     "metadata": {},
     "output_type": "display_data"
    },
    {
     "data": {
      "image/png": "[encoded data removed]",
      "text/plain": [
       "<Figure size 1000x600 with 1 Axes>"
      ]
     },
     "metadata": {},
     "output_type": "display_data"
    },
    {
     "name": "stdout",
     "output_type": "stream",
     "text": [
      "\u001b[32;1m\u001b[1;3m\n",
      "Invoking: `Python_REPL` with `{'query': \"import os\\nimport matplotlib.pyplot as plt\\nimport pandas as pd\\n\\n# Create result directory if it doesn't exist\\nos.makedirs('result', exist_ok=True)\\n\\n# Sample dataset\\ndata = {\\n    'Month': ['January', 'February', 'March', 'April', 'May'],\\n    'Sales (in units)': [150, 200, 175, 225, 190]\\n}\\ndf = pd.DataFrame(data)\\n\\n# Create bar chart\\nplt.figure(figsize=(10, 6))\\nplt.bar(df['Month'], df['Sales (in units)'], color='skyblue')\\nplt.xlabel('Month')\\nplt.ylabel('Sales (in units)')\\nplt.title('Sales Trends Over Five Months')\\nplt.savefig('result/sales_trends_bar_chart.png')\\nplt.show()\"}`\n",
      "\n",
      "\n",
      "\u001b[0m\u001b[38;5;200m\u001b[1;3m\u001b[0m\u001b[32;1m\u001b[1;3mThe bar chart has been successfully generated and saved.\n",
      "\n",
      "You can find the image at the following path: `result/sales_trends_bar_chart.png`\u001b[0m\n",
      "\n",
      "\u001b[1m> Finished chain.\u001b[0m\n"
     ]
    },
    {
     "data": {
      "text/plain": [
       "'The bar chart has been successfully generated and saved.\\n\\nYou can find the image at the following path: `result/sales_trends_bar_chart.png`'"
      ]
     },
     "execution_count": 32,
     "metadata": {},
     "output_type": "execute_result"
    }
   ],
   "source": [
    "call_chain(azure_llm, \"\"\"Here's a sample dataset with 5 entries that you can use to generate a graph. Let's assume it's sales data of a product over five months:\n",
    "\n",
    "| Month    | Sales (in units) |\n",
    "|----------|------------------|\n",
    "| January  | 150              |\n",
    "| February | 200              |\n",
    "| March    | 175              |\n",
    "| April    | 225              |\n",
    "| May      | 190              |\n",
    "\n",
    "You could use this data to create a line graph, bar chart, or pie chart showing sales trends over these months. Let me know if you'd like a specific type of graph!\"\"\")"
   ]
  },
  {
   "cell_type": "code",
   "execution_count": 33,
   "id": "ece58d0d-62cb-4673-84ab-a1924eb1779a",
   "metadata": {},
   "outputs": [
    {
     "data": {
      "text/plain": [
       "[HumanMessage(content=\"Here's a sample dataset with 5 entries that you can use to generate a graph. Let's assume it's sales data of a product over five months:\\n\\n| Month    | Sales (in units) |\\n|----------|------------------|\\n| January  | 150              |\\n| February | 200              |\\n| March    | 175              |\\n| April    | 225              |\\n| May      | 190              |\\n\\nYou could use this data to create a line graph, bar chart, or pie chart showing sales trends over these months. Let me know if you'd like a specific type of graph!\", additional_kwargs={}, response_metadata={}),\n",
       " AIMessage(content='The bar chart has been successfully generated and saved.\\n\\nYou can find the image at the following path: `result/sales_trends_bar_chart.png`', additional_kwargs={}, response_metadata={})]"
      ]
     },
     "execution_count": 33,
     "metadata": {},
     "output_type": "execute_result"
    }
   ],
   "source": [
    "chat_history_for_chain.messages"
   ]
  },
  {
   "cell_type": "code",
   "execution_count": 34,
   "id": "90c22da6-b864-4fd0-802e-bda396daa584",
   "metadata": {},
   "outputs": [
    {
     "name": "stdout",
     "output_type": "stream",
     "text": [
      "result\n"
     ]
    }
   ],
   "source": [
    "import glob\n",
    "import os\n",
    "\n",
    "list_of_files = glob.glob('*') # * means all if need specific format then *.csv\n",
    "latest_file = max(list_of_files, key=os.path.getctime)\n",
    "print(latest_file)"
   ]
  },
  {
   "cell_type": "code",
   "execution_count": 41,
   "id": "15ba87c0-5791-4b94-b7bc-ad958a73732d",
   "metadata": {},
   "outputs": [
    {
     "name": "stdout",
     "output_type": "stream",
     "text": [
      "\n",
      "\n",
      "\u001b[1m> Entering new AgentExecutor chain...\u001b[0m\n",
      "\u001b[32;1m\u001b[1;3m\n",
      "Invoking: `Python_REPL` with `{'query': 'import numpy as np\\nfrom scipy import stats\\n\\n# Sales data\\nsales = [150, 200, 175, 225, 190]\\n\\n# Calculating mean, median, and mode\\nmean_sales = np.mean(sales)\\nmedian_sales = np.median(sales)\\nmode_sales = stats.mode(sales)\\n\\nmean_sales, median_sales, mode_sales.mode[0]'}`\n",
      "\n",
      "\n",
      "\u001b[0m\u001b[38;5;200m\u001b[1;3mIndexError('invalid index to scalar variable.')\u001b[0m\u001b[32;1m\u001b[1;3m\n",
      "Invoking: `Python_REPL` with `{'query': 'import numpy as np\\nfrom scipy import stats\\n\\n# Sales data\\nsales = [150, 200, 175, 225, 190]\\n\\n# Calculating mean, median, and mode\\nmean_sales = np.mean(sales)\\nmedian_sales = np.median(sales)\\nmode_sales = stats.mode(sales)\\n\\nmean_sales, median_sales, mode_sales[0]'}`\n",
      "\n",
      "\n",
      "\u001b[0m\u001b[38;5;200m\u001b[1;3m\u001b[0m\u001b[32;1m\u001b[1;3mThe mean, median, and mode for the sales data are as follows:\n",
      "\n",
      "- **Mean:** 188.0\n",
      "- **Median:** 190.0\n",
      "- **Mode:** 150\u001b[0m\n",
      "\n",
      "\u001b[1m> Finished chain.\u001b[0m\n"
     ]
    },
    {
     "data": {
      "text/plain": [
       "'The mean, median, and mode for the sales data are as follows:\\n\\n- **Mean:** 188.0\\n- **Median:** 190.0\\n- **Mode:** 150'"
      ]
     },
     "execution_count": 41,
     "metadata": {},
     "output_type": "execute_result"
    }
   ],
   "source": [
    "call_chain(azure_llm, \"\"\"Here's a sample dataset with 5 entries. Let's assume it's sales data of a product over five months, find out mean median and mode for sales:\n",
    "\n",
    "| Month    | Sales (in units) |\n",
    "|----------|------------------|\n",
    "| January  | 150              |\n",
    "| February | 200              |\n",
    "| March    | 175              |\n",
    "| April    | 225              |\n",
    "| May      | 190              |\n",
    "\"\"\")"
   ]
  },
  {
   "cell_type": "code",
   "execution_count": 42,
   "id": "5c31aef8-8991-4097-9aae-63fb17394a5a",
   "metadata": {},
   "outputs": [],
   "source": [
    "# END"
   ]
  }
 ],
 "metadata": {
  "kernelspec": {
   "display_name": "env",
   "language": "python",
   "name": "python3"
  },
  "language_info": {
   "codemirror_mode": {
    "name": "ipython",
    "version": 3
   },
   "file_extension": ".py",
   "mimetype": "text/x-python",
   "name": "python",
   "nbconvert_exporter": "python",
   "pygments_lexer": "ipython3",
   "version": "3.12.9"
  }
 },
 "nbformat": 4,
 "nbformat_minor": 5
}
